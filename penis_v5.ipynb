{
 "cells": [
  {
   "cell_type": "code",
   "execution_count": 4,
   "metadata": {},
   "outputs": [],
   "source": [
    "import pandas as pd\n",
    "import numpy as np\n",
    "import matplotlib.pyplot as plt\n",
    "import seaborn as sns\n"
   ]
  },
  {
   "cell_type": "code",
   "execution_count": 7,
   "metadata": {},
   "outputs": [],
   "source": [
    "import pandas as pd\n",
    "\n",
    "# Cargamos el archivo CSV en un DataFrame\n",
    "df_original = pd.read_csv('penis_v5.csv')\n",
    "\n",
    "# Creamos una copia del DataFrame original\n",
    "df_copia = df_original.copy()\n"
   ]
  },
  {
   "cell_type": "code",
   "execution_count": 11,
   "metadata": {},
   "outputs": [],
   "source": [
    "#esto fue antes de tener penis_v5.csv\n",
    "\n",
    "# Reemplazamos los puntos por comas en la columna 'numeros' de df_copia\n",
    "#df_copia['length'] = df_copia['length'].str.replace('.', ',')\n",
    "\n",
    "# Convertimos la columna 'numeros' de df_copia a tipo float\n",
    "#df_copia['length'] = df_copia['length'].astype(float)\n",
    "\n",
    "#Resulta que ya es float, lo convertimos a string para poder cambiar punto por coma.\n"
   ]
  },
  {
   "cell_type": "code",
   "execution_count": 12,
   "metadata": {},
   "outputs": [],
   "source": [
    "#esto fue antes de tener penis_v5.csv\n",
    "\n",
    "#df_copia['length'] =df_copia['length'].astype(str).str.replace('.', ',')\n",
    "#tuve que cambiar el fomato de medida de penis_long_format y la tabla modificada la \n",
    "#guarde como penis_v5.csv"
   ]
  },
  {
   "cell_type": "code",
   "execution_count": null,
   "metadata": {},
   "outputs": [],
   "source": [
    "#df_copia.to_csv('penis_v5.csv', index=False)\n"
   ]
  },
  {
   "cell_type": "code",
   "execution_count": 8,
   "metadata": {},
   "outputs": [
    {
     "data": {
      "text/html": [
       "<div>\n",
       "<style scoped>\n",
       "    .dataframe tbody tr th:only-of-type {\n",
       "        vertical-align: middle;\n",
       "    }\n",
       "\n",
       "    .dataframe tbody tr th {\n",
       "        vertical-align: top;\n",
       "    }\n",
       "\n",
       "    .dataframe thead th {\n",
       "        text-align: right;\n",
       "    }\n",
       "</style>\n",
       "<table border=\"1\" class=\"dataframe\">\n",
       "  <thead>\n",
       "    <tr style=\"text-align: right;\">\n",
       "      <th></th>\n",
       "      <th>Country</th>\n",
       "      <th>Region</th>\n",
       "      <th>Method</th>\n",
       "      <th>N</th>\n",
       "      <th>Source</th>\n",
       "      <th>state</th>\n",
       "      <th>length</th>\n",
       "      <th>volume</th>\n",
       "      <th>circumf</th>\n",
       "    </tr>\n",
       "  </thead>\n",
       "  <tbody>\n",
       "    <tr>\n",
       "      <th>0</th>\n",
       "      <td>Afghanistan</td>\n",
       "      <td>Central Asia</td>\n",
       "      <td>Measured</td>\n",
       "      <td>100.0</td>\n",
       "      <td>Journal of Urology (mentioned in 2011)</td>\n",
       "      <td>Flaccid</td>\n",
       "      <td>9,5</td>\n",
       "      <td>62.60</td>\n",
       "      <td>9.1</td>\n",
       "    </tr>\n",
       "    <tr>\n",
       "      <th>1</th>\n",
       "      <td>Albania</td>\n",
       "      <td>Europe</td>\n",
       "      <td>Self reported</td>\n",
       "      <td>95.0</td>\n",
       "      <td>Journal of Sexology 2006</td>\n",
       "      <td>Flaccid</td>\n",
       "      <td>9,8</td>\n",
       "      <td>73.38</td>\n",
       "      <td>9.7</td>\n",
       "    </tr>\n",
       "    <tr>\n",
       "      <th>2</th>\n",
       "      <td>Algeria</td>\n",
       "      <td>Africa</td>\n",
       "      <td>Self reported</td>\n",
       "      <td>738.0</td>\n",
       "      <td>https://www.surveymonkey.com - 2015</td>\n",
       "      <td>Flaccid</td>\n",
       "      <td>9,9</td>\n",
       "      <td>62.40</td>\n",
       "      <td>8.9</td>\n",
       "    </tr>\n",
       "    <tr>\n",
       "      <th>3</th>\n",
       "      <td>Angola</td>\n",
       "      <td>Africa</td>\n",
       "      <td>Measured</td>\n",
       "      <td>978.0</td>\n",
       "      <td>University Agostinho Neto 2001</td>\n",
       "      <td>Flaccid</td>\n",
       "      <td>10,0</td>\n",
       "      <td>73.34</td>\n",
       "      <td>9.6</td>\n",
       "    </tr>\n",
       "    <tr>\n",
       "      <th>4</th>\n",
       "      <td>Argentina</td>\n",
       "      <td>South America</td>\n",
       "      <td>Self reported</td>\n",
       "      <td>1669.0</td>\n",
       "      <td>Journal of Urology 2013</td>\n",
       "      <td>Flaccid</td>\n",
       "      <td>9,4</td>\n",
       "      <td>59.25</td>\n",
       "      <td>8.9</td>\n",
       "    </tr>\n",
       "  </tbody>\n",
       "</table>\n",
       "</div>"
      ],
      "text/plain": [
       "       Country         Region         Method       N  \\\n",
       "0  Afghanistan   Central Asia       Measured   100.0   \n",
       "1      Albania         Europe  Self reported    95.0   \n",
       "2      Algeria         Africa  Self reported   738.0   \n",
       "3       Angola         Africa       Measured   978.0   \n",
       "4    Argentina  South America  Self reported  1669.0   \n",
       "\n",
       "                                   Source    state length  volume  circumf  \n",
       "0  Journal of Urology (mentioned in 2011)  Flaccid    9,5   62.60      9.1  \n",
       "1                Journal of Sexology 2006  Flaccid    9,8   73.38      9.7  \n",
       "2     https://www.surveymonkey.com - 2015  Flaccid    9,9   62.40      8.9  \n",
       "3          University Agostinho Neto 2001  Flaccid   10,0   73.34      9.6  \n",
       "4                 Journal of Urology 2013  Flaccid    9,4   59.25      8.9  "
      ]
     },
     "execution_count": 8,
     "metadata": {},
     "output_type": "execute_result"
    }
   ],
   "source": [
    "df_copia.head()"
   ]
  },
  {
   "cell_type": "code",
   "execution_count": 10,
   "metadata": {},
   "outputs": [
    {
     "name": "stdout",
     "output_type": "stream",
     "text": [
      "['Flaccid' 'Erect']\n"
     ]
    }
   ],
   "source": [
    "print(df_copia['state'].unique()) #no entiendo porqué solo me aparece \"flacid\" en tableau\n",
    "                                # quería comprobar que sigo teniendo erect"
   ]
  },
  {
   "cell_type": "code",
   "execution_count": 13,
   "metadata": {},
   "outputs": [
    {
     "data": {
      "text/html": [
       "<div>\n",
       "<style scoped>\n",
       "    .dataframe tbody tr th:only-of-type {\n",
       "        vertical-align: middle;\n",
       "    }\n",
       "\n",
       "    .dataframe tbody tr th {\n",
       "        vertical-align: top;\n",
       "    }\n",
       "\n",
       "    .dataframe thead th {\n",
       "        text-align: right;\n",
       "    }\n",
       "</style>\n",
       "<table border=\"1\" class=\"dataframe\">\n",
       "  <thead>\n",
       "    <tr style=\"text-align: right;\">\n",
       "      <th></th>\n",
       "      <th>Country</th>\n",
       "      <th>Region</th>\n",
       "      <th>Method</th>\n",
       "      <th>N</th>\n",
       "      <th>Source</th>\n",
       "      <th>state</th>\n",
       "      <th>length</th>\n",
       "      <th>volume</th>\n",
       "      <th>circumf</th>\n",
       "    </tr>\n",
       "  </thead>\n",
       "  <tbody>\n",
       "    <tr>\n",
       "      <th>139</th>\n",
       "      <td>Afghanistan</td>\n",
       "      <td>Central Asia</td>\n",
       "      <td>Measured</td>\n",
       "      <td>100.0</td>\n",
       "      <td>Journal of Urology (mentioned in 2011)</td>\n",
       "      <td>Erect</td>\n",
       "      <td>13,69</td>\n",
       "      <td>142.08</td>\n",
       "      <td>11.42</td>\n",
       "    </tr>\n",
       "    <tr>\n",
       "      <th>140</th>\n",
       "      <td>Albania</td>\n",
       "      <td>Europe</td>\n",
       "      <td>Self reported</td>\n",
       "      <td>95.0</td>\n",
       "      <td>Journal of Sexology 2006</td>\n",
       "      <td>Erect</td>\n",
       "      <td>14,19</td>\n",
       "      <td>166.97</td>\n",
       "      <td>12.16</td>\n",
       "    </tr>\n",
       "    <tr>\n",
       "      <th>141</th>\n",
       "      <td>Algeria</td>\n",
       "      <td>Africa</td>\n",
       "      <td>Self reported</td>\n",
       "      <td>738.0</td>\n",
       "      <td>https://www.surveymonkey.com - 2015</td>\n",
       "      <td>Erect</td>\n",
       "      <td>14,49</td>\n",
       "      <td>138.76</td>\n",
       "      <td>10.97</td>\n",
       "    </tr>\n",
       "    <tr>\n",
       "      <th>142</th>\n",
       "      <td>Angola</td>\n",
       "      <td>Africa</td>\n",
       "      <td>Measured</td>\n",
       "      <td>978.0</td>\n",
       "      <td>University Agostinho Neto 2001</td>\n",
       "      <td>Erect</td>\n",
       "      <td>15,73</td>\n",
       "      <td>174.89</td>\n",
       "      <td>11.82</td>\n",
       "    </tr>\n",
       "    <tr>\n",
       "      <th>143</th>\n",
       "      <td>Argentina</td>\n",
       "      <td>South America</td>\n",
       "      <td>Self reported</td>\n",
       "      <td>1669.0</td>\n",
       "      <td>Journal of Urology 2013</td>\n",
       "      <td>Erect</td>\n",
       "      <td>14,88</td>\n",
       "      <td>155.24</td>\n",
       "      <td>11.45</td>\n",
       "    </tr>\n",
       "  </tbody>\n",
       "</table>\n",
       "</div>"
      ],
      "text/plain": [
       "         Country         Region         Method       N  \\\n",
       "139  Afghanistan   Central Asia       Measured   100.0   \n",
       "140      Albania         Europe  Self reported    95.0   \n",
       "141      Algeria         Africa  Self reported   738.0   \n",
       "142       Angola         Africa       Measured   978.0   \n",
       "143    Argentina  South America  Self reported  1669.0   \n",
       "\n",
       "                                     Source  state length  volume  circumf  \n",
       "139  Journal of Urology (mentioned in 2011)  Erect  13,69  142.08    11.42  \n",
       "140                Journal of Sexology 2006  Erect  14,19  166.97    12.16  \n",
       "141     https://www.surveymonkey.com - 2015  Erect  14,49  138.76    10.97  \n",
       "142          University Agostinho Neto 2001  Erect  15,73  174.89    11.82  \n",
       "143                 Journal of Urology 2013  Erect  14,88  155.24    11.45  "
      ]
     },
     "execution_count": 13,
     "metadata": {},
     "output_type": "execute_result"
    }
   ],
   "source": [
    "#voy a confirmar que tengo valores \"erect\"\n",
    "erect = df_copia['state'] == 'Erect'\n",
    "\n",
    "erect = df_copia[erect]\n",
    "erect.head()"
   ]
  },
  {
   "cell_type": "code",
   "execution_count": null,
   "metadata": {},
   "outputs": [
    {
     "name": "stdout",
     "output_type": "stream",
     "text": [
      "<class 'pandas.core.frame.DataFrame'>\n",
      "RangeIndex: 278 entries, 0 to 277\n",
      "Data columns (total 9 columns):\n",
      " #   Column   Non-Null Count  Dtype  \n",
      "---  ------   --------------  -----  \n",
      " 0   Country  278 non-null    object \n",
      " 1   Region   278 non-null    object \n",
      " 2   Method   278 non-null    object \n",
      " 3   N        278 non-null    float64\n",
      " 4   Source   278 non-null    object \n",
      " 5   state    278 non-null    object \n",
      " 6   length   278 non-null    float64\n",
      " 7   volume   278 non-null    float64\n",
      " 8   circumf  278 non-null    float64\n",
      "dtypes: float64(4), object(5)\n",
      "memory usage: 19.7+ KB\n",
      "None\n"
     ]
    }
   ],
   "source": [
    "\n",
    "print(df_copia.info())"
   ]
  },
  {
   "cell_type": "code",
   "execution_count": 14,
   "metadata": {},
   "outputs": [
    {
     "data": {
      "text/html": [
       "<div>\n",
       "<style scoped>\n",
       "    .dataframe tbody tr th:only-of-type {\n",
       "        vertical-align: middle;\n",
       "    }\n",
       "\n",
       "    .dataframe tbody tr th {\n",
       "        vertical-align: top;\n",
       "    }\n",
       "\n",
       "    .dataframe thead th {\n",
       "        text-align: right;\n",
       "    }\n",
       "</style>\n",
       "<table border=\"1\" class=\"dataframe\">\n",
       "  <thead>\n",
       "    <tr style=\"text-align: right;\">\n",
       "      <th></th>\n",
       "      <th>Country</th>\n",
       "      <th>Region</th>\n",
       "      <th>Method</th>\n",
       "      <th>N</th>\n",
       "      <th>Source</th>\n",
       "      <th>state</th>\n",
       "      <th>length</th>\n",
       "      <th>volume</th>\n",
       "      <th>circumf</th>\n",
       "    </tr>\n",
       "  </thead>\n",
       "  <tbody>\n",
       "    <tr>\n",
       "      <th>117</th>\n",
       "      <td>Spain</td>\n",
       "      <td>Europe</td>\n",
       "      <td>Self reported</td>\n",
       "      <td>1282.0</td>\n",
       "      <td>Dr. Pilar Cristobal: Universida de Navarra. 2003.</td>\n",
       "      <td>Flaccid</td>\n",
       "      <td>9,2</td>\n",
       "      <td>68.88</td>\n",
       "      <td>9.70</td>\n",
       "    </tr>\n",
       "    <tr>\n",
       "      <th>256</th>\n",
       "      <td>Spain</td>\n",
       "      <td>Europe</td>\n",
       "      <td>Self reported</td>\n",
       "      <td>1282.0</td>\n",
       "      <td>Dr. Pilar Cristobal: Universida de Navarra. 2003.</td>\n",
       "      <td>Erect</td>\n",
       "      <td>13,58</td>\n",
       "      <td>160.58</td>\n",
       "      <td>12.19</td>\n",
       "    </tr>\n",
       "  </tbody>\n",
       "</table>\n",
       "</div>"
      ],
      "text/plain": [
       "    Country  Region         Method       N  \\\n",
       "117   Spain  Europe  Self reported  1282.0   \n",
       "256   Spain  Europe  Self reported  1282.0   \n",
       "\n",
       "                                                Source    state length  \\\n",
       "117  Dr. Pilar Cristobal: Universida de Navarra. 2003.  Flaccid    9,2   \n",
       "256  Dr. Pilar Cristobal: Universida de Navarra. 2003.    Erect  13,58   \n",
       "\n",
       "     volume  circumf  \n",
       "117   68.88     9.70  \n",
       "256  160.58    12.19  "
      ]
     },
     "execution_count": 14,
     "metadata": {},
     "output_type": "execute_result"
    }
   ],
   "source": [
    "spain = df_copia['Country'] == 'Spain'\n",
    "\n",
    "spain = df_copia[spain]\n",
    "spain.head()"
   ]
  },
  {
   "cell_type": "code",
   "execution_count": null,
   "metadata": {},
   "outputs": [],
   "source": [
    "#estoy confirmando que tengo flacid y erect de cada pais, los tengo, para calcular el porcentaje entre uno y otro"
   ]
  },
  {
   "cell_type": "code",
   "execution_count": null,
   "metadata": {},
   "outputs": [],
   "source": []
  }
 ],
 "metadata": {
  "kernelspec": {
   "display_name": "Python 3",
   "language": "python",
   "name": "python3"
  },
  "language_info": {
   "codemirror_mode": {
    "name": "ipython",
    "version": 3
   },
   "file_extension": ".py",
   "mimetype": "text/x-python",
   "name": "python",
   "nbconvert_exporter": "python",
   "pygments_lexer": "ipython3",
   "version": "3.10.4"
  },
  "orig_nbformat": 4,
  "vscode": {
   "interpreter": {
    "hash": "aee8b7b246df8f9039afb4144a1f6fd8d2ca17a180786b69acc140d282b71a49"
   }
  }
 },
 "nbformat": 4,
 "nbformat_minor": 2
}
